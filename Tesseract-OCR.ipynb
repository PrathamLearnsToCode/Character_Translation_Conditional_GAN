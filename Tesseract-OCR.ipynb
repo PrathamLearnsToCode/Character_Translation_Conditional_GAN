{
 "cells": [
  {
   "cell_type": "code",
   "execution_count": 1,
   "id": "800a4ce5",
   "metadata": {},
   "outputs": [
    {
     "name": "stdout",
     "output_type": "stream",
     "text": [
      "Requirement already satisfied: pillow in c:\\users\\aryab\\anaconda3\\lib\\site-packages (9.0.1)\n"
     ]
    }
   ],
   "source": [
    "!pip3 install pillow"
   ]
  },
  {
   "cell_type": "code",
   "execution_count": 2,
   "id": "fed39458",
   "metadata": {},
   "outputs": [
    {
     "name": "stdout",
     "output_type": "stream",
     "text": [
      "Requirement already satisfied: pytesseract in c:\\users\\aryab\\anaconda3\\lib\\site-packages (0.3.9)\n",
      "Requirement already satisfied: Pillow>=8.0.0 in c:\\users\\aryab\\anaconda3\\lib\\site-packages (from pytesseract) (9.0.1)\n",
      "Requirement already satisfied: packaging>=21.3 in c:\\users\\aryab\\anaconda3\\lib\\site-packages (from pytesseract) (21.3)\n",
      "Requirement already satisfied: pyparsing!=3.0.5,>=2.0.2 in c:\\users\\aryab\\anaconda3\\lib\\site-packages (from packaging>=21.3->pytesseract) (3.0.4)\n"
     ]
    }
   ],
   "source": [
    "!pip3 install pytesseract"
   ]
  },
  {
   "cell_type": "code",
   "execution_count": 7,
   "id": "7d3dc1dc",
   "metadata": {},
   "outputs": [],
   "source": [
    "import pytesseract\n",
    "from PIL import Image\n",
    "import os\n",
    "pytesseract.pytesseract.tesseract_cmd = r'C:\\Users\\aryab\\Desktop\\Tesseract-OCR\\tesseract.exe'"
   ]
  },
  {
   "cell_type": "code",
   "execution_count": 10,
   "id": "e8690505",
   "metadata": {},
   "outputs": [
    {
     "name": "stdout",
     "output_type": "stream",
     "text": [
      "-----------------------------\n",
      "स्पलतिक्रीवानिवहनवाकदुष्टूछझ राक्लससवत्सरगैजबड्रढ् छू को\n",
      "3ीरज़पाट्ीबैेंसेकेरंगक#टृूत बाविन्रायकरपैद्ितआएजहतेगविद्य\n",
      "तजानिकोबिवाकुमदेरआढषिक्षिफोड़े्यावातिरोपतह्यासलबारदेशा\n",
      "\n",
      "पुआविनेओषप्यमत्रदकमवानिगडरबंउ ओजखरतेल्यासलुस्याकसु\n",
      "\n",
      "सारेदेह्नूदतेवेजांवादुऐेडब्ूनविकिंवेरनट्माणदूतत्यात्यफ्राउजेंफ र\n",
      "फ्रल्पातवीज्लसमस्तत्यायाउठगरानावरिसपाटूतमिंतीविंगरिलीत्याउप\n",
      "\n",
      "वाठ्पतग्रगानजोजोग्रणक्माभकाकके लेतीवात्याह्माखट्रांवीनाव एज उठ\n",
      "आतिवातिबर्दसकानिसजेमिलागियबूदुदालिद्ुसफ्टूनदिलिकेंल\n",
      "टिक शिर॒य्रद्ाकततकगिकय्रआमिमामचवीतिसाणिक दिली या लापता\n",
      "मा खफुनागरबापानह्‌बबूजुर्ता शा |\n",
      "\n",
      "'फगछड़|\n",
      "\n",
      "\n",
      "-----------------------------\n",
      "के ... वो तैला पल 7 कार जै।ता राटतणा' ज़ी /20240/ ...\n",
      "## त4जी र(श उ्जैद्मवितालस क्र 'न ता 7ताएक्षताज\n",
      "| मोलतनदाराजार्डु ४ ज़राज त तरिय र 2\n",
      "जितीजावयातातौसखब्िर॒द र|ए। ऐ रण राज ज(कउतक।\n",
      "\n",
      "-----------------------------\n",
      "हा मित्र को अपनी बहन के विवाह पर निमन्त्रित करते\n",
      "हुये यत्र।\n",
      "\n",
      "सी-69, किदवई नगर,\n",
      "\n",
      "नई दिल्ली।\n",
      "\n",
      "अक्टूबर 5, 200...\n",
      "\n",
      "प्रिय दीपक,\n",
      "\n",
      "तुम्हें यह सूचित करते हुये मुझे बहुत प्रसन्‍नता हो रही है कि\n",
      "मेरी बहन का विवाह 2 नवम्बर, 200... को होना निश्चित हुआ\n",
      "है। लड़के वाले दिल्ली में ही रहते हैं। बारात तिलक नगर से\n",
      "बस द्वारा आयेगी। दूल्हा वित्त मंत्रालय में स्टेनोग्राफर के पद\n",
      "पर कार्यरत है।\n",
      "\n",
      "मेरा तुमसे अनुरोध है कि इस अवसर पर तुम अवश्य\n",
      "पहुँचना। तुम विवाह से दो दिन पूर्व ही मेरे घर आ जाना\n",
      "ताकि विवाह समारोह की व्यवस्था में मुझे तुम्हारी मदद मिल\n",
      "सके। अपने प्रोग्राम के विषय में मुझे पूर्व सूचना अवश्य\n",
      "देना।\n",
      "\n",
      "आण्टी एवं अंकल को भी मेरी ओर से निमन्त्रित करना।\n",
      "मुझे उम्मीद है तुम मुझे निराश नहीं करोगे। आण्टी अंकल को\n",
      "मेरा प्रणाम कहना।\n",
      "\n",
      "तुम्हारा अभिन्‍न मित्र\n",
      "(विपिन्न)\n",
      "\n",
      "\n"
     ]
    }
   ],
   "source": [
    "def main(): \n",
    "    # path for the folder for getting the raw images \n",
    "    path =\"Path\"\n",
    "   \n",
    "    # path for the folder for getting the output \n",
    "    tempPath =\"NewPath\"\n",
    "  \n",
    "    # iterating the images inside the folder \n",
    "    for imageName in os.listdir(path): \n",
    "        print (\"-----------------------------\")\n",
    "              \n",
    "        inputPath = os.path.join(path, imageName) \n",
    "        img = Image.open(inputPath) \n",
    "  \n",
    "        # applying ocr using pytesseract for python \n",
    "        text = pt.image_to_string(img, lang =\"hin\") \n",
    "  \n",
    "        # for removing the .jpg from the imagePath \n",
    "        imageName = imageName[0:-4] \n",
    "  \n",
    "        fullTempPath = os.path.join(tempPath, imageName+\".txt\") \n",
    "        print(text) \n",
    "  \n",
    "        # saving the  text for every image in a separate .txt file \n",
    "        file1 = open(fullTempPath, \"w\", encoding='utf-8') \n",
    "        file1.write(text) \n",
    "        file1.close()  \n",
    "  \n",
    "if __name__ == '__main__': \n",
    "    main()"
   ]
  },
  {
   "cell_type": "code",
   "execution_count": null,
   "id": "c9259e09",
   "metadata": {},
   "outputs": [],
   "source": []
  }
 ],
 "metadata": {
  "kernelspec": {
   "display_name": "Python 3 (ipykernel)",
   "language": "python",
   "name": "python3"
  },
  "language_info": {
   "codemirror_mode": {
    "name": "ipython",
    "version": 3
   },
   "file_extension": ".py",
   "mimetype": "text/x-python",
   "name": "python",
   "nbconvert_exporter": "python",
   "pygments_lexer": "ipython3",
   "version": "3.9.12"
  }
 },
 "nbformat": 4,
 "nbformat_minor": 5
}
